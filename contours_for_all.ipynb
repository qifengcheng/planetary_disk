{
 "cells": [
  {
   "cell_type": "code",
   "execution_count": 1,
   "id": "connected-application",
   "metadata": {},
   "outputs": [],
   "source": [
    "import matplotlib.pyplot as plt\n",
    "\n",
    "from astropy.wcs import WCS\n",
    "from astropy.io import fits\n",
    "from astropy.utils.data import get_pkg_data_filename\n",
    "from astropy.nddata import Cutout2D\n",
    "import os\n",
    "\n",
    "def find_cutout(filename_345s, filename_33s, size_345s, x_345s, y_345s):\n",
    "    cutout_345 = []\n",
    "    cutout_33 = []\n",
    "    for filename_345, filename_33, size_345, x_345, y_345 in zip(filename_345s, filename_33s, size_345s, x_345s, y_345s):\n",
    "        hdu_345 = fits.open(filename_345)[0]\n",
    "        wcs_345 = WCS(hdu_345.header, relax=True, naxis=2)\n",
    "        hdu_33 = fits.open(filename_33)[0]\n",
    "        wcs_33 = WCS(hdu_33.header, relax=True, naxis=2)\n",
    "\n",
    "        #converting the position information between different datasets\n",
    "        sky = wcs_345.pixel_to_world(x_345, y_345)    #position\n",
    "        x_33, y_33 = wcs_33.world_to_pixel(sky)\n",
    "\n",
    "        margin_345 = wcs_345.pixel_to_world(x_345 - size_345/2, y_345 - size_345/2)    #size\n",
    "        x_33_margin, y_33_margin = wcs_33.world_to_pixel(margin_345)\n",
    "        size_33 = 2 * (x_33 - x_33_margin)\n",
    "\n",
    "        #doing the cutout\n",
    "        cutout_345.append(Cutout2D(hdu_345.data[0][0], (x_345, y_345), size_345, wcs=wcs_345, copy=True))\n",
    "        cutout_33.append(Cutout2D(hdu_33.data[0][0], (x_33, y_33), size_33, wcs=wcs_33, copy=True))\n",
    "        \n",
    "    return cutout_345, cutout_33\n",
    "\n",
    "def gen_axis(cutout_345s):\n",
    "    axs = []\n",
    "#     subplot_nums = [241, 242, 243, 244, 245, 246, 247]\n",
    "    subplot_nums = [111]\n",
    "    for subplot_num, cutout_345 in zip(subplot_nums[:len(cutout_345s)], cutout_345s):\n",
    "        axs.append(plt.subplot(subplot_num, projection=cutout_345.wcs))\n",
    "    return axs\n",
    "def gen_axises(cutout_345s):\n",
    "    axs = []\n",
    "    subplot_nums = [241, 242, 243, 244, 245, 246, 247]\n",
    "\n",
    "    for subplot_num, cutout_345 in zip(subplot_nums[:len(cutout_345s)], cutout_345s):\n",
    "        axs.append(plt.subplot(subplot_num, projection=cutout_345.wcs))\n",
    "    return axs\n",
    "\n",
    "def plot_contour(axs,cutout_345s, cutout_33s, levs, vmins, vmaxs):\n",
    "    \n",
    "    for ax, cutout_345, cutout_33, level, vmi, vma in zip(axs, cutout_345s, cutout_33s, levs, vmins, vmaxs):\n",
    "        ax.set_xlabel('Right Ascension')\n",
    "        ax.set_ylabel('Declination')\n",
    "        #filename\n",
    "#         ax.imshow(cutout_345.data, vmin=-5e-5, vmax=5e-3, origin='lower')\n",
    "        ax.imshow(cutout_345.data, vmin=vmi, vmax=vma, origin='lower')\n",
    "        ax.contour(cutout_33.data, transform=ax.get_transform(cutout_33.wcs), \\\n",
    "               levels=[9.07e-6 * 3,9.07e-6 * 6,9.07e-6 * 9 ], colors=['c','yellow','white'])\n",
    "        ax.set_xlim(0,221)\n",
    "\n",
    "\n",
    "def plot_disk(axs, cutout_345s, vmins, vmaxs):\n",
    "    ax.set_xlabel('Right Ascension')\n",
    "    ax.set_ylabel('Declination')\n",
    "    ax.imshow(cutout_345.data, vmin=vmi, vmax=vma)"
   ]
  },
  {
   "cell_type": "code",
   "execution_count": 2,
   "id": "daily-impossible",
   "metadata": {
    "scrolled": false
   },
   "outputs": [
    {
     "name": "stderr",
     "output_type": "stream",
     "text": [
      "WARNING: FITSFixedWarning: PC01_01 = 1.000000000000E+00 \n",
      "indices in parameterized keywords must not have leading zeroes. [astropy.wcs.wcs]\n",
      "WARNING: FITSFixedWarning: PC02_01 = 0.000000000000E+00 \n",
      "indices in parameterized keywords must not have leading zeroes. [astropy.wcs.wcs]\n",
      "WARNING: FITSFixedWarning: PC03_01 = 0.000000000000E+00 \n",
      "indices in parameterized keywords must not have leading zeroes. [astropy.wcs.wcs]\n",
      "WARNING: FITSFixedWarning: PC04_01 = 0.000000000000E+00 \n",
      "indices in parameterized keywords must not have leading zeroes. [astropy.wcs.wcs]\n",
      "WARNING: FITSFixedWarning: PC01_02 = 0.000000000000E+00 \n",
      "indices in parameterized keywords must not have leading zeroes. [astropy.wcs.wcs]\n",
      "WARNING: FITSFixedWarning: PC02_02 = 1.000000000000E+00 \n",
      "indices in parameterized keywords must not have leading zeroes. [astropy.wcs.wcs]\n",
      "WARNING: FITSFixedWarning: PC03_02 = 0.000000000000E+00 \n",
      "indices in parameterized keywords must not have leading zeroes. [astropy.wcs.wcs]\n",
      "WARNING: FITSFixedWarning: PC04_02 = 0.000000000000E+00 \n",
      "indices in parameterized keywords must not have leading zeroes. [astropy.wcs.wcs]\n",
      "WARNING: FITSFixedWarning: PC01_03 = 0.000000000000E+00 \n",
      "indices in parameterized keywords must not have leading zeroes. [astropy.wcs.wcs]\n",
      "WARNING: FITSFixedWarning: PC02_03 = 0.000000000000E+00 \n",
      "indices in parameterized keywords must not have leading zeroes. [astropy.wcs.wcs]\n",
      "WARNING: FITSFixedWarning: PC03_03 = 1.000000000000E+00 \n",
      "indices in parameterized keywords must not have leading zeroes. [astropy.wcs.wcs]\n",
      "WARNING: FITSFixedWarning: PC04_03 = 0.000000000000E+00 \n",
      "indices in parameterized keywords must not have leading zeroes. [astropy.wcs.wcs]\n",
      "WARNING: FITSFixedWarning: PC01_04 = 0.000000000000E+00 \n",
      "indices in parameterized keywords must not have leading zeroes. [astropy.wcs.wcs]\n",
      "WARNING: FITSFixedWarning: PC02_04 = 0.000000000000E+00 \n",
      "indices in parameterized keywords must not have leading zeroes. [astropy.wcs.wcs]\n",
      "WARNING: FITSFixedWarning: PC03_04 = 0.000000000000E+00 \n",
      "indices in parameterized keywords must not have leading zeroes. [astropy.wcs.wcs]\n",
      "WARNING: FITSFixedWarning: PC04_04 = 1.000000000000E+00 \n",
      "indices in parameterized keywords must not have leading zeroes. [astropy.wcs.wcs]\n",
      "WARNING: FITSFixedWarning: 'obsfix' made the change 'Set OBSGEO-L to   -67.754929 from OBSGEO-[XYZ].\n",
      "Set OBSGEO-B to   -23.022886 from OBSGEO-[XYZ].\n",
      "Set OBSGEO-H to     5053.796 from OBSGEO-[XYZ]'. [astropy.wcs.wcs]\n",
      "WARNING: FITSFixedWarning: 'obsfix' made the change 'Set OBSGEO-L to  -107.618000 from OBSGEO-[XYZ].\n",
      "Set OBSGEO-B to    34.078827 from OBSGEO-[XYZ].\n",
      "Set OBSGEO-H to     2115.607 from OBSGEO-[XYZ]'. [astropy.wcs.wcs]\n"
     ]
    },
    {
     "data": {
      "image/png": "[encoded data removed]",
      "text/plain": [
       "<Figure size 432x288 with 1 Axes>"
      ]
     },
     "metadata": {
      "needs_background": "light"
     },
     "output_type": "display_data"
    }
   ],
   "source": [
    "# %matplotlib notebook\n",
    "\n",
    "# filename_345 = ['data/HH270MMS2_345GHz.fits', 'data/HOPS-56_345GHz.fits', 'data/HOPS-65_345GHz.fits',\\\n",
    "#                'data/HOPS-124_345GHz.fits', 'data/HOPS-140_345GHz.fits', 'data/HOPS-157_345GHz.fits',\\\n",
    "#                'data/HOPS-163_345GHz.fits'] \n",
    "# filename_33 = ['data/HH270MMS2_44GHz_robust2.0.fits', 'data/HOPS-56_33GHz_robust2.0.fits', 'data/HOPS-65_15GHz_robust2.0.fits',\\\n",
    "#               'data/HOPS-124_44GHz_robust2.0.fits', 'data/HOPS-140_33GHz_robust2.0.fits', 'data/HOPS-157_33GHz_robust2.0.fits',\\\n",
    "#               'data/HOPS-163_33GHz_robust2.0.fits']\n",
    "# size_345 = [221, 221, 221, 221, 271, 221, 221]\n",
    "# x_345 = [490, 1566, 478, 621, 1517, 498, 514] \n",
    "# y_345 = [549, 938, 496, 505, 1487, 479, 511] \n",
    "# rms_33 = [9.07e-6, 5.3e-6, 2.4e-6, 1.47e-5, 4.96e-6, 5.15e-6, 5.11e-6]\n",
    "filename_345 = ['data/HH270MMS2_345GHz.fits']\n",
    "filename_33 = ['data/HH270MMS2_44GHz_robust2.0.fits']\n",
    "size_345 = [221]\n",
    "x_345 = [490]\n",
    "y_345 = [549]\n",
    "v_min = [-5e-6]\n",
    "v_max= [15e-3]\n",
    "rms_33 = [9.07e-6]\n",
    "level = [[rms_33 * 3,rms_33 * 6,rms_33 * 9 ]]\n",
    "cutout_345, cutout_33 = find_cutout(filename_345s = filename_345, filename_33s = filename_33, size_345s=size_345, x_345s=x_345, y_345s=y_345)\n",
    "axs = gen_axis(cutout_345)\n",
    "plot_contour(axs,cutout_345, cutout_33, levs=level, vmins = v_min, vmaxs = v_max)"
   ]
  },
  {
   "cell_type": "code",
   "execution_count": 68,
   "id": "specified-controversy",
   "metadata": {},
   "outputs": [
    {
     "data": {
      "text/plain": [
       "48841"
      ]
     },
     "execution_count": 68,
     "metadata": {},
     "output_type": "execute_result"
    }
   ],
   "source": [
    "# plt.imshow(cutout_345[0].data)\n",
    "cutout_345[0].data.size"
   ]
  },
  {
   "cell_type": "code",
   "execution_count": 69,
   "id": "crucial-carol",
   "metadata": {},
   "outputs": [
    {
     "data": {
      "text/plain": [
       "268324"
      ]
     },
     "execution_count": 69,
     "metadata": {},
     "output_type": "execute_result"
    }
   ],
   "source": [
    "cutout_33[0].data.size"
   ]
  },
  {
   "cell_type": "code",
   "execution_count": 7,
   "id": "touched-hunter",
   "metadata": {},
   "outputs": [
    {
     "data": {
      "image/png": "[encoded data removed]",
      "text/plain": [
       "<Figure size 432x288 with 7 Axes>"
      ]
     },
     "metadata": {
      "needs_background": "light"
     },
     "output_type": "display_data"
    }
   ],
   "source": [
    "import matplotlib.pyplot as plt\n",
    "# def gen_axis(cutout_345s):\n",
    "axs = []\n",
    "subplot_nums = [241, 242, 243, 244, 245, 246, 247]\n",
    "for subplot_num in subplot_nums:\n",
    "    axs.append(plt.subplot(subplot_num))"
   ]
  },
  {
   "cell_type": "code",
   "execution_count": null,
   "id": "ruled-outline",
   "metadata": {},
   "outputs": [],
   "source": []
  }
 ],
 "metadata": {
  "kernelspec": {
   "display_name": "Python 3 (ipykernel)",
   "language": "python",
   "name": "python3"
  },
  "language_info": {
   "codemirror_mode": {
    "name": "ipython",
    "version": 3
   },
   "file_extension": ".py",
   "mimetype": "text/x-python",
   "name": "python",
   "nbconvert_exporter": "python",
   "pygments_lexer": "ipython3",
   "version": "3.9.10"
  }
 },
 "nbformat": 4,
 "nbformat_minor": 5
}
