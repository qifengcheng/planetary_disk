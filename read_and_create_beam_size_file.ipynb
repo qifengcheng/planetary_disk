{
 "cells": [
  {
   "cell_type": "code",
   "execution_count": 1,
   "id": "a64acd08",
   "metadata": {},
   "outputs": [],
   "source": [
    "from astropy.io import fits\n",
    "from astropy.table import Table\n",
    "from astropy.io import ascii\n",
    "# names = ['HH270MMS2_44GHz_robust2.0.fits', 'HOPS-56_33GHz_robust2.0.fits', 'HOPS-65_15GHz_robust2.0.fits',\\\n",
    "#               'HOPS-124_44GHz_robust2.0.fits', 'HOPS-140_33GHz_robust2.0.fits', 'data/HOPS-157_33GHz_robust2.0.fits',\\\n",
    "#               'HOPS-163_33GHz_robust2.0.fits']\n",
    "\n",
    "\n",
    "t = Table()\n",
    "objs = ['HH270MMS2','HOPS-56',  'HOPS-65', 'HOPS-124', 'HOPS-140', 'HOPS-157', 'HOPS-163']\n",
    "VLA_freq = {'HH270MMS2':'44' , 'HOPS-56':'33' ,  'HOPS-65':'15' , 'HOPS-124':'44' , 'HOPS-140':'33' , 'HOPS-157':'33' , 'HOPS-163':33  }\n",
    "fits_name = {'HH270MMS2':'270','HOPS-56':'56',  'HOPS-65':'65', 'HOPS-124':'124', 'HOPS-140':'140', 'HOPS-157':'157', 'HOPS-163':'163'}\n",
    "paras = ['Natural', 'Robust0','Uniform']\n",
    "BMAJ = []\n",
    "BMIN = []\n",
    "items = []\n",
    "for obj in objs:\n",
    "    for para in paras:\n",
    "        hdu = fits.open(f'data/fitsfiles/{fits_name[obj]}_{VLA_freq[obj]}_{para}.fits')\n",
    "        BMAJ.append(hdu[0].header['BMAJ'])\n",
    "        BMIN.append(hdu[0].header['BMIN'])\n",
    "        items.append(f'{obj}_{VLA_freq[obj]}GHz_{para}')\n",
    "        \n",
    "t['name'] = items\n",
    "t['BMAJ'] = BMAJ\n",
    "t['BMIN'] = BMIN"
   ]
  },
  {
   "cell_type": "code",
   "execution_count": 2,
   "id": "736e2342",
   "metadata": {},
   "outputs": [
    {
     "data": {
      "text/html": [
       "<div><i>Table length=21</i>\n",
       "<table id=\"table4854899712\" class=\"table-striped table-bordered table-condensed\">\n",
       "<thead><tr><th>name</th><th>BMAJ</th><th>BMIN</th></tr></thead>\n",
       "<thead><tr><th>str23</th><th>float64</th><th>float64</th></tr></thead>\n",
       "<tr><td>HH270MMS2_44GHz_Natural</td><td>1.811812528306e-05</td><td>1.449440605938e-05</td></tr>\n",
       "<tr><td>HH270MMS2_44GHz_Robust0</td><td>1.110637353526e-05</td><td>1.000174424715e-05</td></tr>\n",
       "<tr><td>HH270MMS2_44GHz_Uniform</td><td>9.152718509237e-06</td><td>8.922907420331e-06</td></tr>\n",
       "<tr><td>HOPS-56_33GHz_Natural</td><td>2.605137725671e-05</td><td>1.787854979436e-05</td></tr>\n",
       "<tr><td>HOPS-56_33GHz_Robust0</td><td>1.691792367233e-05</td><td>1.200159390767e-05</td></tr>\n",
       "<tr><td>HOPS-56_33GHz_Uniform</td><td>1.449877603187e-05</td><td>1.083514446186e-05</td></tr>\n",
       "<tr><td>...</td><td>...</td><td>...</td></tr>\n",
       "<tr><td>HOPS-140_33GHz_Uniform</td><td>1.484933205777e-05</td><td>1.076056001087e-05</td></tr>\n",
       "<tr><td>HOPS-157_33GHz_Natural</td><td>2.652199111051e-05</td><td>1.780186469356e-05</td></tr>\n",
       "<tr><td>HOPS-157_33GHz_Robust0</td><td>1.7319979767e-05</td><td>1.192666486733e-05</td></tr>\n",
       "<tr><td>HOPS-157_33GHz_Uniform</td><td>1.486700649063e-05</td><td>1.075781260928e-05</td></tr>\n",
       "<tr><td>HOPS-163_33GHz_Natural</td><td>2.634277774228e-05</td><td>1.788567958607e-05</td></tr>\n",
       "<tr><td>HOPS-163_33GHz_Robust0</td><td>1.719895957245e-05</td><td>1.195456729167e-05</td></tr>\n",
       "<tr><td>HOPS-163_33GHz_Uniform</td><td>1.479436746902e-05</td><td>1.073947900699e-05</td></tr>\n",
       "</table></div>"
      ],
      "text/plain": [
       "<Table length=21>\n",
       "          name                 BMAJ               BMIN       \n",
       "         str23               float64            float64      \n",
       "----------------------- ------------------ ------------------\n",
       "HH270MMS2_44GHz_Natural 1.811812528306e-05 1.449440605938e-05\n",
       "HH270MMS2_44GHz_Robust0 1.110637353526e-05 1.000174424715e-05\n",
       "HH270MMS2_44GHz_Uniform 9.152718509237e-06 8.922907420331e-06\n",
       "  HOPS-56_33GHz_Natural 2.605137725671e-05 1.787854979436e-05\n",
       "  HOPS-56_33GHz_Robust0 1.691792367233e-05 1.200159390767e-05\n",
       "  HOPS-56_33GHz_Uniform 1.449877603187e-05 1.083514446186e-05\n",
       "                    ...                ...                ...\n",
       " HOPS-140_33GHz_Uniform 1.484933205777e-05 1.076056001087e-05\n",
       " HOPS-157_33GHz_Natural 2.652199111051e-05 1.780186469356e-05\n",
       " HOPS-157_33GHz_Robust0   1.7319979767e-05 1.192666486733e-05\n",
       " HOPS-157_33GHz_Uniform 1.486700649063e-05 1.075781260928e-05\n",
       " HOPS-163_33GHz_Natural 2.634277774228e-05 1.788567958607e-05\n",
       " HOPS-163_33GHz_Robust0 1.719895957245e-05 1.195456729167e-05\n",
       " HOPS-163_33GHz_Uniform 1.479436746902e-05 1.073947900699e-05"
      ]
     },
     "execution_count": 2,
     "metadata": {},
     "output_type": "execute_result"
    }
   ],
   "source": [
    "t"
   ]
  },
  {
   "cell_type": "code",
   "execution_count": null,
   "id": "08b5aec1",
   "metadata": {},
   "outputs": [],
   "source": [
    "ascii.write(t, 'values.csv', format='csv', fast_writer=False)  \n",
    "t.write('Beam_Size.csv', format='ascii', overwrite=True)"
   ]
  }
 ],
 "metadata": {
  "kernelspec": {
   "display_name": "Python 3 (ipykernel)",
   "language": "python",
   "name": "python3"
  },
  "language_info": {
   "codemirror_mode": {
    "name": "ipython",
    "version": 3
   },
   "file_extension": ".py",
   "mimetype": "text/x-python",
   "name": "python",
   "nbconvert_exporter": "python",
   "pygments_lexer": "ipython3",
   "version": "3.9.7"
  }
 },
 "nbformat": 4,
 "nbformat_minor": 5
}
